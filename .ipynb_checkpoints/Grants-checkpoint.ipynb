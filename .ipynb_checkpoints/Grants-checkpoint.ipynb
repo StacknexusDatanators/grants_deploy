{
 "cells": [
  {
   "cell_type": "code",
   "execution_count": 1,
   "metadata": {
    "colab": {
     "base_uri": "https://localhost:8080/"
    },
    "id": "aLDfB2QWD3uq",
    "outputId": "3509e24a-2701-46f0-bba0-cb96e3d3278f",
    "scrolled": true
   },
   "outputs": [
    {
     "name": "stdout",
     "output_type": "stream",
     "text": [
      "Collecting google-cloud-documentai\n",
      "  Using cached google_cloud_documentai-2.29.2-py2.py3-none-any.whl.metadata (5.2 kB)\n",
      "Collecting google-api-core!=2.0.*,!=2.1.*,!=2.10.*,!=2.2.*,!=2.3.*,!=2.4.*,!=2.5.*,!=2.6.*,!=2.7.*,!=2.8.*,!=2.9.*,<3.0.0dev,>=1.34.1 (from google-api-core[grpc]!=2.0.*,!=2.1.*,!=2.10.*,!=2.2.*,!=2.3.*,!=2.4.*,!=2.5.*,!=2.6.*,!=2.7.*,!=2.8.*,!=2.9.*,<3.0.0dev,>=1.34.1->google-cloud-documentai)\n",
      "  Using cached google_api_core-2.19.1-py3-none-any.whl.metadata (2.7 kB)\n",
      "Collecting google-auth!=2.24.0,!=2.25.0,<3.0.0dev,>=2.14.1 (from google-cloud-documentai)\n",
      "  Using cached google_auth-2.32.0-py2.py3-none-any.whl.metadata (4.7 kB)\n",
      "Collecting proto-plus<2.0.0dev,>=1.22.3 (from google-cloud-documentai)\n",
      "  Using cached proto_plus-1.24.0-py3-none-any.whl.metadata (2.2 kB)\n",
      "Collecting protobuf!=4.21.0,!=4.21.1,!=4.21.2,!=4.21.3,!=4.21.4,!=4.21.5,<6.0.0dev,>=3.20.2 (from google-cloud-documentai)\n",
      "  Using cached protobuf-5.27.2-cp38-abi3-macosx_10_9_universal2.whl.metadata (592 bytes)\n",
      "Collecting googleapis-common-protos<2.0.dev0,>=1.56.2 (from google-api-core!=2.0.*,!=2.1.*,!=2.10.*,!=2.2.*,!=2.3.*,!=2.4.*,!=2.5.*,!=2.6.*,!=2.7.*,!=2.8.*,!=2.9.*,<3.0.0dev,>=1.34.1->google-api-core[grpc]!=2.0.*,!=2.1.*,!=2.10.*,!=2.2.*,!=2.3.*,!=2.4.*,!=2.5.*,!=2.6.*,!=2.7.*,!=2.8.*,!=2.9.*,<3.0.0dev,>=1.34.1->google-cloud-documentai)\n",
      "  Using cached googleapis_common_protos-1.63.2-py2.py3-none-any.whl.metadata (1.5 kB)\n",
      "Requirement already satisfied: requests<3.0.0.dev0,>=2.18.0 in /opt/anaconda3/envs/docai/lib/python3.11/site-packages (from google-api-core!=2.0.*,!=2.1.*,!=2.10.*,!=2.2.*,!=2.3.*,!=2.4.*,!=2.5.*,!=2.6.*,!=2.7.*,!=2.8.*,!=2.9.*,<3.0.0dev,>=1.34.1->google-api-core[grpc]!=2.0.*,!=2.1.*,!=2.10.*,!=2.2.*,!=2.3.*,!=2.4.*,!=2.5.*,!=2.6.*,!=2.7.*,!=2.8.*,!=2.9.*,<3.0.0dev,>=1.34.1->google-cloud-documentai) (2.32.3)\n",
      "Collecting grpcio<2.0dev,>=1.33.2 (from google-api-core[grpc]!=2.0.*,!=2.1.*,!=2.10.*,!=2.2.*,!=2.3.*,!=2.4.*,!=2.5.*,!=2.6.*,!=2.7.*,!=2.8.*,!=2.9.*,<3.0.0dev,>=1.34.1->google-cloud-documentai)\n",
      "  Downloading grpcio-1.65.1-cp311-cp311-macosx_10_9_universal2.whl.metadata (3.3 kB)\n",
      "Collecting grpcio-status<2.0.dev0,>=1.33.2 (from google-api-core[grpc]!=2.0.*,!=2.1.*,!=2.10.*,!=2.2.*,!=2.3.*,!=2.4.*,!=2.5.*,!=2.6.*,!=2.7.*,!=2.8.*,!=2.9.*,<3.0.0dev,>=1.34.1->google-cloud-documentai)\n",
      "  Using cached grpcio_status-1.65.1-py3-none-any.whl.metadata (1.1 kB)\n",
      "Collecting cachetools<6.0,>=2.0.0 (from google-auth!=2.24.0,!=2.25.0,<3.0.0dev,>=2.14.1->google-cloud-documentai)\n",
      "  Using cached cachetools-5.4.0-py3-none-any.whl.metadata (5.3 kB)\n",
      "Collecting pyasn1-modules>=0.2.1 (from google-auth!=2.24.0,!=2.25.0,<3.0.0dev,>=2.14.1->google-cloud-documentai)\n",
      "  Using cached pyasn1_modules-0.4.0-py3-none-any.whl.metadata (3.4 kB)\n",
      "Collecting rsa<5,>=3.1.4 (from google-auth!=2.24.0,!=2.25.0,<3.0.0dev,>=2.14.1->google-cloud-documentai)\n",
      "  Using cached rsa-4.9-py3-none-any.whl.metadata (4.2 kB)\n",
      "Collecting pyasn1<0.7.0,>=0.4.6 (from pyasn1-modules>=0.2.1->google-auth!=2.24.0,!=2.25.0,<3.0.0dev,>=2.14.1->google-cloud-documentai)\n",
      "  Using cached pyasn1-0.6.0-py2.py3-none-any.whl.metadata (8.3 kB)\n",
      "Requirement already satisfied: charset-normalizer<4,>=2 in /opt/anaconda3/envs/docai/lib/python3.11/site-packages (from requests<3.0.0.dev0,>=2.18.0->google-api-core!=2.0.*,!=2.1.*,!=2.10.*,!=2.2.*,!=2.3.*,!=2.4.*,!=2.5.*,!=2.6.*,!=2.7.*,!=2.8.*,!=2.9.*,<3.0.0dev,>=1.34.1->google-api-core[grpc]!=2.0.*,!=2.1.*,!=2.10.*,!=2.2.*,!=2.3.*,!=2.4.*,!=2.5.*,!=2.6.*,!=2.7.*,!=2.8.*,!=2.9.*,<3.0.0dev,>=1.34.1->google-cloud-documentai) (3.3.2)\n",
      "Requirement already satisfied: idna<4,>=2.5 in /opt/anaconda3/envs/docai/lib/python3.11/site-packages (from requests<3.0.0.dev0,>=2.18.0->google-api-core!=2.0.*,!=2.1.*,!=2.10.*,!=2.2.*,!=2.3.*,!=2.4.*,!=2.5.*,!=2.6.*,!=2.7.*,!=2.8.*,!=2.9.*,<3.0.0dev,>=1.34.1->google-api-core[grpc]!=2.0.*,!=2.1.*,!=2.10.*,!=2.2.*,!=2.3.*,!=2.4.*,!=2.5.*,!=2.6.*,!=2.7.*,!=2.8.*,!=2.9.*,<3.0.0dev,>=1.34.1->google-cloud-documentai) (3.7)\n",
      "Requirement already satisfied: urllib3<3,>=1.21.1 in /opt/anaconda3/envs/docai/lib/python3.11/site-packages (from requests<3.0.0.dev0,>=2.18.0->google-api-core!=2.0.*,!=2.1.*,!=2.10.*,!=2.2.*,!=2.3.*,!=2.4.*,!=2.5.*,!=2.6.*,!=2.7.*,!=2.8.*,!=2.9.*,<3.0.0dev,>=1.34.1->google-api-core[grpc]!=2.0.*,!=2.1.*,!=2.10.*,!=2.2.*,!=2.3.*,!=2.4.*,!=2.5.*,!=2.6.*,!=2.7.*,!=2.8.*,!=2.9.*,<3.0.0dev,>=1.34.1->google-cloud-documentai) (2.2.2)\n",
      "Requirement already satisfied: certifi>=2017.4.17 in /opt/anaconda3/envs/docai/lib/python3.11/site-packages (from requests<3.0.0.dev0,>=2.18.0->google-api-core!=2.0.*,!=2.1.*,!=2.10.*,!=2.2.*,!=2.3.*,!=2.4.*,!=2.5.*,!=2.6.*,!=2.7.*,!=2.8.*,!=2.9.*,<3.0.0dev,>=1.34.1->google-api-core[grpc]!=2.0.*,!=2.1.*,!=2.10.*,!=2.2.*,!=2.3.*,!=2.4.*,!=2.5.*,!=2.6.*,!=2.7.*,!=2.8.*,!=2.9.*,<3.0.0dev,>=1.34.1->google-cloud-documentai) (2024.7.4)\n",
      "Using cached google_cloud_documentai-2.29.2-py2.py3-none-any.whl (315 kB)\n",
      "Using cached google_api_core-2.19.1-py3-none-any.whl (139 kB)\n",
      "Using cached google_auth-2.32.0-py2.py3-none-any.whl (195 kB)\n",
      "Using cached proto_plus-1.24.0-py3-none-any.whl (50 kB)\n",
      "Using cached protobuf-5.27.2-cp38-abi3-macosx_10_9_universal2.whl (412 kB)\n",
      "Using cached cachetools-5.4.0-py3-none-any.whl (9.5 kB)\n",
      "Using cached googleapis_common_protos-1.63.2-py2.py3-none-any.whl (220 kB)\n",
      "Downloading grpcio-1.65.1-cp311-cp311-macosx_10_9_universal2.whl (10.4 MB)\n",
      "\u001b[2K   \u001b[90m━━━━━━━━━━━━━━━━━━━━━━━━━━━━━━━━━━━━━━━━\u001b[0m \u001b[32m10.4/10.4 MB\u001b[0m \u001b[31m6.5 MB/s\u001b[0m eta \u001b[36m0:00:00\u001b[0m00:01\u001b[0m00:01\u001b[0m\n",
      "\u001b[?25hUsing cached grpcio_status-1.65.1-py3-none-any.whl (14 kB)\n",
      "Using cached pyasn1_modules-0.4.0-py3-none-any.whl (181 kB)\n",
      "Using cached rsa-4.9-py3-none-any.whl (34 kB)\n",
      "Using cached pyasn1-0.6.0-py2.py3-none-any.whl (85 kB)\n",
      "Installing collected packages: pyasn1, protobuf, grpcio, cachetools, rsa, pyasn1-modules, proto-plus, googleapis-common-protos, grpcio-status, google-auth, google-api-core, google-cloud-documentai\n",
      "Successfully installed cachetools-5.4.0 google-api-core-2.19.1 google-auth-2.32.0 google-cloud-documentai-2.29.2 googleapis-common-protos-1.63.2 grpcio-1.65.1 grpcio-status-1.65.1 proto-plus-1.24.0 protobuf-5.27.2 pyasn1-0.6.0 pyasn1-modules-0.4.0 rsa-4.9\n"
     ]
    }
   ],
   "source": [
    "!pip install google-cloud-documentai"
   ]
  },
  {
   "cell_type": "code",
   "execution_count": 1,
   "metadata": {
    "colab": {
     "base_uri": "https://localhost:8080/"
    },
    "id": "kdzNXUprD3xM",
    "outputId": "7f5fb09f-d90e-4dd6-efb9-a1fa36f41aca",
    "scrolled": true
   },
   "outputs": [
    {
     "name": "stdout",
     "output_type": "stream",
     "text": [
      "Collecting google-cloud-documentai-toolbox==0.11.1a\n",
      "  Downloading google_cloud_documentai_toolbox-0.11.1a0-py2.py3-none-any.whl.metadata (6.2 kB)\n",
      "Requirement already satisfied: google-api-core!=2.0.*,!=2.1.*,!=2.2.*,!=2.3.0,<3.0.0dev,>=1.31.5 in /home/j05/anaconda3/envs/grants/lib/python3.9/site-packages (from google-cloud-documentai-toolbox==0.11.1a) (2.19.1)\n",
      "Collecting pandas<3.0.0,>=1.0.0 (from google-cloud-documentai-toolbox==0.11.1a)\n",
      "  Using cached pandas-2.2.2-cp39-cp39-manylinux_2_17_x86_64.manylinux2014_x86_64.whl.metadata (19 kB)\n",
      "Collecting tabulate<1.0.0,>=0.9.0 (from google-cloud-documentai-toolbox==0.11.1a)\n",
      "  Downloading tabulate-0.9.0-py3-none-any.whl.metadata (34 kB)\n",
      "Requirement already satisfied: proto-plus<2.0.0dev,>=1.22.0 in /home/j05/anaconda3/envs/grants/lib/python3.9/site-packages (from google-cloud-documentai-toolbox==0.11.1a) (1.24.0)\n",
      "Collecting grpc-google-iam-v1<0.13dev,>=0.12.6 (from google-cloud-documentai-toolbox==0.11.1a)\n",
      "  Downloading grpc_google_iam_v1-0.12.7-py2.py3-none-any.whl.metadata (3.3 kB)\n",
      "Collecting google-cloud-bigquery<4.0.0dev,>=3.5.0 (from google-cloud-documentai-toolbox==0.11.1a)\n",
      "  Using cached google_cloud_bigquery-3.25.0-py2.py3-none-any.whl.metadata (8.9 kB)\n",
      "Requirement already satisfied: google-cloud-documentai<3.0.0dev,>=2.20.0 in /home/j05/anaconda3/envs/grants/lib/python3.9/site-packages (from google-cloud-documentai-toolbox==0.11.1a) (2.30.0)\n",
      "Collecting google-cloud-storage<3.0.0dev,>=1.31.0 (from google-cloud-documentai-toolbox==0.11.1a)\n",
      "  Downloading google_cloud_storage-2.18.0-py2.py3-none-any.whl.metadata (9.1 kB)\n",
      "Collecting google-cloud-vision<4.0.0dev,>=2.7.0 (from google-cloud-documentai-toolbox==0.11.1a)\n",
      "  Downloading google_cloud_vision-3.7.4-py2.py3-none-any.whl.metadata (5.2 kB)\n",
      "Collecting numpy<2.0.0,>=1.18.1 (from google-cloud-documentai-toolbox==0.11.1a)\n",
      "  Downloading numpy-1.26.4-cp39-cp39-manylinux_2_17_x86_64.manylinux2014_x86_64.whl.metadata (61 kB)\n",
      "\u001b[2K     \u001b[38;2;114;156;31m━━━━━━━━━━━━━━━━━━━━━━━━━━━━━━━━━━━━━━━━\u001b[0m \u001b[32m61.0/61.0 kB\u001b[0m \u001b[31m2.5 MB/s\u001b[0m eta \u001b[36m0:00:00\u001b[0m\n",
      "\u001b[?25hCollecting intervaltree>=3.0.0 (from google-cloud-documentai-toolbox==0.11.1a)\n",
      "  Downloading intervaltree-3.1.0.tar.gz (32 kB)\n",
      "  Preparing metadata (setup.py) ... \u001b[?25ldone\n",
      "\u001b[?25hCollecting pikepdf<9.0.0,>=6.2.9 (from google-cloud-documentai-toolbox==0.11.1a)\n",
      "  Downloading pikepdf-8.15.1-cp39-cp39-manylinux_2_17_x86_64.manylinux2014_x86_64.whl.metadata (8.5 kB)\n",
      "Collecting immutabledict<4.0.0,>=2.0.0 (from google-cloud-documentai-toolbox==0.11.1a)\n",
      "  Downloading immutabledict-3.0.0-py3-none-any.whl.metadata (3.1 kB)\n",
      "Collecting Pillow<11.0.0,>=9.5.0 (from google-cloud-documentai-toolbox==0.11.1a)\n",
      "  Using cached pillow-10.4.0-cp39-cp39-manylinux_2_28_x86_64.whl.metadata (9.2 kB)\n",
      "Requirement already satisfied: Jinja2<=4.0.0,>=3.1.0 in /home/j05/anaconda3/envs/grants/lib/python3.9/site-packages (from google-cloud-documentai-toolbox==0.11.1a) (3.1.4)\n",
      "Requirement already satisfied: googleapis-common-protos<2.0.dev0,>=1.56.2 in /home/j05/anaconda3/envs/grants/lib/python3.9/site-packages (from google-api-core!=2.0.*,!=2.1.*,!=2.2.*,!=2.3.0,<3.0.0dev,>=1.31.5->google-cloud-documentai-toolbox==0.11.1a) (1.63.2)\n",
      "Requirement already satisfied: protobuf!=3.20.0,!=3.20.1,!=4.21.0,!=4.21.1,!=4.21.2,!=4.21.3,!=4.21.4,!=4.21.5,<6.0.0.dev0,>=3.19.5 in /home/j05/anaconda3/envs/grants/lib/python3.9/site-packages (from google-api-core!=2.0.*,!=2.1.*,!=2.2.*,!=2.3.0,<3.0.0dev,>=1.31.5->google-cloud-documentai-toolbox==0.11.1a) (5.27.3)\n",
      "Requirement already satisfied: google-auth<3.0.dev0,>=2.14.1 in /home/j05/anaconda3/envs/grants/lib/python3.9/site-packages (from google-api-core!=2.0.*,!=2.1.*,!=2.2.*,!=2.3.0,<3.0.0dev,>=1.31.5->google-cloud-documentai-toolbox==0.11.1a) (2.32.0)\n",
      "Requirement already satisfied: requests<3.0.0.dev0,>=2.18.0 in /home/j05/anaconda3/envs/grants/lib/python3.9/site-packages (from google-api-core!=2.0.*,!=2.1.*,!=2.2.*,!=2.3.0,<3.0.0dev,>=1.31.5->google-cloud-documentai-toolbox==0.11.1a) (2.32.3)\n",
      "Collecting google-cloud-core<3.0.0dev,>=1.6.0 (from google-cloud-bigquery<4.0.0dev,>=3.5.0->google-cloud-documentai-toolbox==0.11.1a)\n",
      "  Using cached google_cloud_core-2.4.1-py2.py3-none-any.whl.metadata (2.7 kB)\n",
      "Collecting google-resumable-media<3.0dev,>=0.6.0 (from google-cloud-bigquery<4.0.0dev,>=3.5.0->google-cloud-documentai-toolbox==0.11.1a)\n",
      "  Using cached google_resumable_media-2.7.1-py2.py3-none-any.whl.metadata (2.2 kB)\n",
      "Requirement already satisfied: packaging>=20.0.0 in /home/j05/anaconda3/envs/grants/lib/python3.9/site-packages (from google-cloud-bigquery<4.0.0dev,>=3.5.0->google-cloud-documentai-toolbox==0.11.1a) (24.1)\n",
      "Requirement already satisfied: python-dateutil<3.0dev,>=2.7.2 in /home/j05/anaconda3/envs/grants/lib/python3.9/site-packages (from google-cloud-bigquery<4.0.0dev,>=3.5.0->google-cloud-documentai-toolbox==0.11.1a) (2.9.0.post0)\n",
      "Collecting google-crc32c<2.0dev,>=1.0 (from google-cloud-storage<3.0.0dev,>=1.31.0->google-cloud-documentai-toolbox==0.11.1a)\n",
      "  Using cached google_crc32c-1.5.0-cp39-cp39-manylinux_2_17_x86_64.manylinux2014_x86_64.whl.metadata (2.3 kB)\n",
      "Requirement already satisfied: grpcio<2.0.0dev,>=1.44.0 in /home/j05/anaconda3/envs/grants/lib/python3.9/site-packages (from grpc-google-iam-v1<0.13dev,>=0.12.6->google-cloud-documentai-toolbox==0.11.1a) (1.65.2)\n",
      "Collecting protobuf!=3.20.0,!=3.20.1,!=4.21.0,!=4.21.1,!=4.21.2,!=4.21.3,!=4.21.4,!=4.21.5,<6.0.0.dev0,>=3.19.5 (from google-api-core!=2.0.*,!=2.1.*,!=2.2.*,!=2.3.0,<3.0.0dev,>=1.31.5->google-cloud-documentai-toolbox==0.11.1a)\n",
      "  Downloading protobuf-4.25.4-cp37-abi3-manylinux2014_x86_64.whl.metadata (541 bytes)\n",
      "Collecting sortedcontainers<3.0,>=2.0 (from intervaltree>=3.0.0->google-cloud-documentai-toolbox==0.11.1a)\n",
      "  Downloading sortedcontainers-2.4.0-py2.py3-none-any.whl.metadata (10 kB)\n",
      "Requirement already satisfied: MarkupSafe>=2.0 in /home/j05/anaconda3/envs/grants/lib/python3.9/site-packages (from Jinja2<=4.0.0,>=3.1.0->google-cloud-documentai-toolbox==0.11.1a) (2.1.5)\n",
      "Collecting pytz>=2020.1 (from pandas<3.0.0,>=1.0.0->google-cloud-documentai-toolbox==0.11.1a)\n",
      "  Using cached pytz-2024.1-py2.py3-none-any.whl.metadata (22 kB)\n",
      "Collecting tzdata>=2022.7 (from pandas<3.0.0,>=1.0.0->google-cloud-documentai-toolbox==0.11.1a)\n",
      "  Using cached tzdata-2024.1-py2.py3-none-any.whl.metadata (1.4 kB)\n",
      "Collecting Deprecated (from pikepdf<9.0.0,>=6.2.9->google-cloud-documentai-toolbox==0.11.1a)\n",
      "  Downloading Deprecated-1.2.14-py2.py3-none-any.whl.metadata (5.4 kB)\n",
      "Collecting lxml>=4.8 (from pikepdf<9.0.0,>=6.2.9->google-cloud-documentai-toolbox==0.11.1a)\n",
      "  Using cached lxml-5.2.2-cp39-cp39-manylinux_2_28_x86_64.whl.metadata (3.4 kB)\n",
      "Requirement already satisfied: grpcio-status<2.0.dev0,>=1.33.2 in /home/j05/anaconda3/envs/grants/lib/python3.9/site-packages (from google-api-core[grpc]!=2.0.*,!=2.1.*,!=2.10.*,!=2.2.*,!=2.3.*,!=2.4.*,!=2.5.*,!=2.6.*,!=2.7.*,!=2.8.*,!=2.9.*,<3.0.0dev,>=1.34.1->google-cloud-bigquery<4.0.0dev,>=3.5.0->google-cloud-documentai-toolbox==0.11.1a) (1.65.2)\n",
      "Requirement already satisfied: cachetools<6.0,>=2.0.0 in /home/j05/anaconda3/envs/grants/lib/python3.9/site-packages (from google-auth<3.0.dev0,>=2.14.1->google-api-core!=2.0.*,!=2.1.*,!=2.2.*,!=2.3.0,<3.0.0dev,>=1.31.5->google-cloud-documentai-toolbox==0.11.1a) (5.4.0)\n",
      "Requirement already satisfied: pyasn1-modules>=0.2.1 in /home/j05/anaconda3/envs/grants/lib/python3.9/site-packages (from google-auth<3.0.dev0,>=2.14.1->google-api-core!=2.0.*,!=2.1.*,!=2.2.*,!=2.3.0,<3.0.0dev,>=1.31.5->google-cloud-documentai-toolbox==0.11.1a) (0.4.0)\n",
      "Requirement already satisfied: rsa<5,>=3.1.4 in /home/j05/anaconda3/envs/grants/lib/python3.9/site-packages (from google-auth<3.0.dev0,>=2.14.1->google-api-core!=2.0.*,!=2.1.*,!=2.2.*,!=2.3.0,<3.0.0dev,>=1.31.5->google-cloud-documentai-toolbox==0.11.1a) (4.9)\n",
      "Requirement already satisfied: six>=1.5 in /home/j05/anaconda3/envs/grants/lib/python3.9/site-packages (from python-dateutil<3.0dev,>=2.7.2->google-cloud-bigquery<4.0.0dev,>=3.5.0->google-cloud-documentai-toolbox==0.11.1a) (1.16.0)\n",
      "Requirement already satisfied: charset-normalizer<4,>=2 in /home/j05/anaconda3/envs/grants/lib/python3.9/site-packages (from requests<3.0.0.dev0,>=2.18.0->google-api-core!=2.0.*,!=2.1.*,!=2.2.*,!=2.3.0,<3.0.0dev,>=1.31.5->google-cloud-documentai-toolbox==0.11.1a) (3.3.2)\n",
      "Requirement already satisfied: idna<4,>=2.5 in /home/j05/anaconda3/envs/grants/lib/python3.9/site-packages (from requests<3.0.0.dev0,>=2.18.0->google-api-core!=2.0.*,!=2.1.*,!=2.2.*,!=2.3.0,<3.0.0dev,>=1.31.5->google-cloud-documentai-toolbox==0.11.1a) (3.7)\n",
      "Requirement already satisfied: urllib3<3,>=1.21.1 in /home/j05/anaconda3/envs/grants/lib/python3.9/site-packages (from requests<3.0.0.dev0,>=2.18.0->google-api-core!=2.0.*,!=2.1.*,!=2.2.*,!=2.3.0,<3.0.0dev,>=1.31.5->google-cloud-documentai-toolbox==0.11.1a) (2.2.2)\n",
      "Requirement already satisfied: certifi>=2017.4.17 in /home/j05/anaconda3/envs/grants/lib/python3.9/site-packages (from requests<3.0.0.dev0,>=2.18.0->google-api-core!=2.0.*,!=2.1.*,!=2.2.*,!=2.3.0,<3.0.0dev,>=1.31.5->google-cloud-documentai-toolbox==0.11.1a) (2024.7.4)\n",
      "Collecting wrapt<2,>=1.10 (from Deprecated->pikepdf<9.0.0,>=6.2.9->google-cloud-documentai-toolbox==0.11.1a)\n",
      "  Downloading wrapt-1.16.0-cp39-cp39-manylinux_2_5_x86_64.manylinux1_x86_64.manylinux_2_17_x86_64.manylinux2014_x86_64.whl.metadata (6.6 kB)\n",
      "INFO: pip is looking at multiple versions of grpcio-status to determine which version is compatible with other requirements. This could take a while.\n",
      "Collecting grpcio-status<2.0.dev0,>=1.33.2 (from google-api-core[grpc]!=2.0.*,!=2.1.*,!=2.10.*,!=2.2.*,!=2.3.*,!=2.4.*,!=2.5.*,!=2.6.*,!=2.7.*,!=2.8.*,!=2.9.*,<3.0.0dev,>=1.34.1->google-cloud-bigquery<4.0.0dev,>=3.5.0->google-cloud-documentai-toolbox==0.11.1a)\n",
      "  Using cached grpcio_status-1.65.1-py3-none-any.whl.metadata (1.1 kB)\n",
      "  Using cached grpcio_status-1.64.1-py3-none-any.whl.metadata (1.1 kB)\n",
      "  Downloading grpcio_status-1.64.0-py3-none-any.whl.metadata (1.1 kB)\n",
      "  Downloading grpcio_status-1.63.0-py3-none-any.whl.metadata (1.1 kB)\n",
      "  Downloading grpcio_status-1.62.2-py3-none-any.whl.metadata (1.3 kB)\n",
      "Requirement already satisfied: pyasn1<0.7.0,>=0.4.6 in /home/j05/anaconda3/envs/grants/lib/python3.9/site-packages (from pyasn1-modules>=0.2.1->google-auth<3.0.dev0,>=2.14.1->google-api-core!=2.0.*,!=2.1.*,!=2.2.*,!=2.3.0,<3.0.0dev,>=1.31.5->google-cloud-documentai-toolbox==0.11.1a) (0.6.0)\n",
      "Downloading google_cloud_documentai_toolbox-0.11.1a0-py2.py3-none-any.whl (23.8 MB)\n",
      "\u001b[2K   \u001b[38;2;114;156;31m━━━━━━━━━━━━━━━━━━━━━━━━━━━━━━━━━━━━━━━━\u001b[0m \u001b[32m23.8/23.8 MB\u001b[0m \u001b[31m3.6 MB/s\u001b[0m eta \u001b[36m0:00:00\u001b[0mm eta \u001b[36m0:00:01\u001b[0m[36m0:00:01\u001b[0m\n",
      "\u001b[?25hUsing cached google_cloud_bigquery-3.25.0-py2.py3-none-any.whl (239 kB)\n",
      "Downloading google_cloud_storage-2.18.0-py2.py3-none-any.whl (130 kB)\n",
      "\u001b[2K   \u001b[38;2;114;156;31m━━━━━━━━━━━━━━━━━━━━━━━━━━━━━━━━━━━━━━━━\u001b[0m \u001b[32m130.5/130.5 kB\u001b[0m \u001b[31m4.2 MB/s\u001b[0m eta \u001b[36m0:00:00\u001b[0m\n",
      "\u001b[?25hDownloading google_cloud_vision-3.7.4-py2.py3-none-any.whl (467 kB)\n",
      "\u001b[2K   \u001b[38;2;114;156;31m━━━━━━━━━━━━━━━━━━━━━━━━━━━━━━━━━━━━━━━━\u001b[0m \u001b[32m467.5/467.5 kB\u001b[0m \u001b[31m3.7 MB/s\u001b[0m eta \u001b[36m0:00:00\u001b[0m MB/s\u001b[0m eta \u001b[36m0:00:01\u001b[0m:01\u001b[0m\n",
      "\u001b[?25hDownloading grpc_google_iam_v1-0.12.7-py2.py3-none-any.whl (26 kB)\n",
      "Downloading immutabledict-3.0.0-py3-none-any.whl (4.0 kB)\n",
      "Downloading numpy-1.26.4-cp39-cp39-manylinux_2_17_x86_64.manylinux2014_x86_64.whl (18.2 MB)\n",
      "\u001b[2K   \u001b[38;2;114;156;31m━━━━━━━━━━━━━━━━━━━━━━━━━━━━━━━━━━━━━━━━\u001b[0m \u001b[32m18.2/18.2 MB\u001b[0m \u001b[31m4.3 MB/s\u001b[0m eta \u001b[36m0:00:00\u001b[0mm eta \u001b[36m0:00:01\u001b[0m[36m0:00:01\u001b[0m\n",
      "\u001b[?25hUsing cached pandas-2.2.2-cp39-cp39-manylinux_2_17_x86_64.manylinux2014_x86_64.whl (13.1 MB)\n",
      "Downloading pikepdf-8.15.1-cp39-cp39-manylinux_2_17_x86_64.manylinux2014_x86_64.whl (2.4 MB)\n",
      "\u001b[2K   \u001b[38;2;114;156;31m━━━━━━━━━━━━━━━━━━━━━━━━━━━━━━━━━━━━━━━━\u001b[0m \u001b[32m2.4/2.4 MB\u001b[0m \u001b[31m2.8 MB/s\u001b[0m eta \u001b[36m0:00:00\u001b[0mm eta \u001b[36m0:00:01\u001b[0m0:01\u001b[0m:01\u001b[0m\n",
      "\u001b[?25hUsing cached pillow-10.4.0-cp39-cp39-manylinux_2_28_x86_64.whl (4.5 MB)\n",
      "Downloading tabulate-0.9.0-py3-none-any.whl (35 kB)\n",
      "Using cached google_cloud_core-2.4.1-py2.py3-none-any.whl (29 kB)\n",
      "Using cached google_crc32c-1.5.0-cp39-cp39-manylinux_2_17_x86_64.manylinux2014_x86_64.whl (32 kB)\n",
      "Using cached google_resumable_media-2.7.1-py2.py3-none-any.whl (81 kB)\n",
      "Using cached lxml-5.2.2-cp39-cp39-manylinux_2_28_x86_64.whl (5.0 MB)\n",
      "Downloading protobuf-4.25.4-cp37-abi3-manylinux2014_x86_64.whl (294 kB)\n",
      "\u001b[2K   \u001b[38;2;114;156;31m━━━━━━━━━━━━━━━━━━━━━━━━━━━━━━━━━━━━━━━━\u001b[0m \u001b[32m294.6/294.6 kB\u001b[0m \u001b[31m1.3 MB/s\u001b[0m eta \u001b[36m0:00:00\u001b[0m MB/s\u001b[0m eta \u001b[36m0:00:01\u001b[0m0:01\u001b[0m\n",
      "\u001b[?25hUsing cached pytz-2024.1-py2.py3-none-any.whl (505 kB)\n",
      "Downloading sortedcontainers-2.4.0-py2.py3-none-any.whl (29 kB)\n",
      "Using cached tzdata-2024.1-py2.py3-none-any.whl (345 kB)\n",
      "Downloading Deprecated-1.2.14-py2.py3-none-any.whl (9.6 kB)\n",
      "Downloading grpcio_status-1.62.2-py3-none-any.whl (14 kB)\n",
      "Downloading wrapt-1.16.0-cp39-cp39-manylinux_2_5_x86_64.manylinux1_x86_64.manylinux_2_17_x86_64.manylinux2014_x86_64.whl (80 kB)\n",
      "\u001b[2K   \u001b[38;2;114;156;31m━━━━━━━━━━━━━━━━━━━━━━━━━━━━━━━━━━━━━━━━\u001b[0m \u001b[32m80.1/80.1 kB\u001b[0m \u001b[31m3.0 MB/s\u001b[0m eta \u001b[36m0:00:00\u001b[0m\n",
      "\u001b[?25hBuilding wheels for collected packages: intervaltree\n",
      "  Building wheel for intervaltree (setup.py) ... \u001b[?25ldone\n",
      "\u001b[?25h  Created wheel for intervaltree: filename=intervaltree-3.1.0-py2.py3-none-any.whl size=26096 sha256=9170eb408b11f6e01315cb916eeb171cf46170d0eb9b9eeff3239cd7085ef5c5\n",
      "  Stored in directory: /home/j05/.cache/pip/wheels/ab/fa/1b/75d9a713279796785711bd0bad8334aaace560c0bd28830c8c\n",
      "Successfully built intervaltree\n",
      "Installing collected packages: sortedcontainers, pytz, wrapt, tzdata, tabulate, protobuf, Pillow, numpy, lxml, intervaltree, immutabledict, google-crc32c, pandas, google-resumable-media, Deprecated, pikepdf, grpcio-status, grpc-google-iam-v1, google-cloud-core, google-cloud-vision, google-cloud-storage, google-cloud-bigquery, google-cloud-documentai-toolbox\n",
      "  Attempting uninstall: protobuf\n",
      "    Found existing installation: protobuf 5.27.3\n",
      "    Uninstalling protobuf-5.27.3:\n",
      "      Successfully uninstalled protobuf-5.27.3\n",
      "  Attempting uninstall: grpcio-status\n",
      "    Found existing installation: grpcio-status 1.65.2\n",
      "    Uninstalling grpcio-status-1.65.2:\n",
      "      Successfully uninstalled grpcio-status-1.65.2\n",
      "Successfully installed Deprecated-1.2.14 Pillow-10.4.0 google-cloud-bigquery-3.25.0 google-cloud-core-2.4.1 google-cloud-documentai-toolbox-0.11.1a0 google-cloud-storage-2.18.0 google-cloud-vision-3.7.4 google-crc32c-1.5.0 google-resumable-media-2.7.1 grpc-google-iam-v1-0.12.7 grpcio-status-1.62.2 immutabledict-3.0.0 intervaltree-3.1.0 lxml-5.2.2 numpy-1.26.4 pandas-2.2.2 pikepdf-8.15.1 protobuf-4.25.4 pytz-2024.1 sortedcontainers-2.4.0 tabulate-0.9.0 tzdata-2024.1 wrapt-1.16.0\n"
     ]
    }
   ],
   "source": [
    "!pip install google-cloud-documentai-toolbox==0.11.1a"
   ]
  },
  {
   "cell_type": "code",
   "execution_count": 4,
   "metadata": {
    "colab": {
     "base_uri": "https://localhost:8080/"
    },
    "id": "6fKaSp6JJ-05",
    "outputId": "f75fe7c6-3fc9-4f97-93bc-2d5156fdd13e"
   },
   "outputs": [
    {
     "name": "stdout",
     "output_type": "stream",
     "text": [
      "Your browser has been opened to visit:\n",
      "\n",
      "    https://accounts.google.com/o/oauth2/auth?response_type=code&client_id=32555940559.apps.googleusercontent.com&redirect_uri=http%3A%2F%2Flocalhost%3A8085%2F&scope=openid+https%3A%2F%2Fwww.googleapis.com%2Fauth%2Fuserinfo.email+https%3A%2F%2Fwww.googleapis.com%2Fauth%2Fcloud-platform+https%3A%2F%2Fwww.googleapis.com%2Fauth%2Fappengine.admin+https%3A%2F%2Fwww.googleapis.com%2Fauth%2Fsqlservice.login+https%3A%2F%2Fwww.googleapis.com%2Fauth%2Fcompute+https%3A%2F%2Fwww.googleapis.com%2Fauth%2Faccounts.reauth&state=jKHKWhwVTEbJceLuIuzI49KC1gQlCq&access_type=offline&code_challenge=AjhWXaFgEjjguKLB28JszjX7Qc5h6K8H019ic_sf1HA&code_challenge_method=S256\n",
      "\n",
      "\n",
      "You are now logged in as [stack.ai@stacknexus.io].\n",
      "Your current project is [grant01].  You can change this setting by running:\n",
      "  $ gcloud config set project PROJECT_ID\n"
     ]
    }
   ],
   "source": [
    "!gcloud auth login"
   ]
  },
  {
   "cell_type": "code",
   "execution_count": 5,
   "metadata": {
    "colab": {
     "base_uri": "https://localhost:8080/"
    },
    "id": "tSfGYNIxJ_sT",
    "outputId": "98ab3494-35cc-4258-9a3c-e8262c0cbc9b"
   },
   "outputs": [
    {
     "name": "stdout",
     "output_type": "stream",
     "text": [
      "Updated property [core/project].\n",
      "Operation \"operations/acat.p2-332125695616-aeb89c4d-ceb5-4ed3-a0a1-cbe330c97dc5\" finished successfully.\n"
     ]
    }
   ],
   "source": [
    "!gcloud config set project \"332125695616\"\n",
    "!gcloud services enable documentai.googleapis.com storage.googleapis.com aiplatform.googleapis.com"
   ]
  },
  {
   "cell_type": "code",
   "execution_count": 1,
   "metadata": {},
   "outputs": [],
   "source": [
    "import os"
   ]
  },
  {
   "cell_type": "code",
   "execution_count": 7,
   "metadata": {
    "id": "a-uKEt3aD34l"
   },
   "outputs": [],
   "source": [
    "os.environ[\"GOOGLE_APPLICATION_CREDENTIALS\"]=\"./Creds/grant01-joby.json\""
   ]
  },
  {
   "cell_type": "code",
   "execution_count": 3,
   "metadata": {
    "id": "0Tpgkqj8D37A"
   },
   "outputs": [],
   "source": [
    "from google.api_core.client_options import ClientOptions\n",
    "from google.cloud import documentai\n",
    "from google.api_core.exceptions import AlreadyExists\n",
    "from google.cloud.documentai_toolbox.wrappers.document import Document\n",
    "import glob\n",
    "import os\n",
    "from typing import Dict, List\n",
    "\n"
   ]
  },
  {
   "cell_type": "code",
   "execution_count": 4,
   "metadata": {
    "id": "bPHGGS2fD39c"
   },
   "outputs": [],
   "source": [
    "def create_processor_sample(project_id: str, location: str, processor_display_name: str, processor_type: str) -> None:\n",
    "    # You must set the api_endpoint if you use a location other than 'us'.\n",
    "    opts = ClientOptions(api_endpoint=f\"{location}-documentai.googleapis.com\")\n",
    "\n",
    "    client = documentai.DocumentProcessorServiceClient(client_options=opts)\n",
    "\n",
    "    # The full resource name of the location\n",
    "    # e.g.: projects/project_id/locations/location\n",
    "    parent = client.common_location_path(project_id, location)\n",
    "\n",
    "    # Create a processor\n",
    "    processor = client.create_processor(\n",
    "        parent=parent,\n",
    "        processor=documentai.Processor(\n",
    "            display_name=processor_display_name, type_=processor_type\n",
    "        ),\n",
    "    )\n",
    "\n",
    "    # Print the processor information\n",
    "    print(f\"Processor Name: {processor.name}\")\n",
    "    print(f\"Processor Display Name: {processor.display_name}\")\n",
    "    print(f\"Processor Type: {processor.type_}\")"
   ]
  },
  {
   "cell_type": "code",
   "execution_count": 11,
   "metadata": {
    "colab": {
     "base_uri": "https://localhost:8080/"
    },
    "id": "LqlIWzuAD3_w",
    "outputId": "9f723607-930e-444b-c5ff-b60a87b331d4"
   },
   "outputs": [
    {
     "name": "stderr",
     "output_type": "stream",
     "text": [
      "I0000 00:00:1722349570.935615  728965 check_gcp_environment_no_op.cc:29] ALTS: Platforms other than Linux and Windows are not supported\n"
     ]
    },
    {
     "name": "stdout",
     "output_type": "stream",
     "text": [
      "Processor Name: projects/332125695616/locations/us/processors/a6bceed480e9d614\n",
      "Processor Display Name: test022\n",
      "Processor Type: OCR_PROCESSOR\n"
     ]
    }
   ],
   "source": [
    "# TODO(developer): Uncomment these variables before running the sample.\n",
    "project_id = '332125695616'\n",
    "location = 'us'  # Format is 'us' or 'eu'\n",
    "processor_display_name = 'test022'  # Must be unique per project, e.g.: 'My Processor'\n",
    "processor_type = 'OCR_PROCESSOR'  # Use fetch_processor_types to get available processor types\n",
    "\n",
    "create_processor_sample(project_id, location, processor_display_name, processor_type)"
   ]
  },
  {
   "cell_type": "code",
   "execution_count": 9,
   "metadata": {
    "colab": {
     "base_uri": "https://localhost:8080/"
    },
    "id": "LpSzRGxlD4CE",
    "outputId": "1e637950-7f43-4ad3-86ff-3722496dd1e7"
   },
   "outputs": [
    {
     "name": "stdout",
     "output_type": "stream",
     "text": [
      "Processing 12\n",
      "{'file_name': '12', 'file_type': '.pdf', 'chunk_number': 1, 'content': 'Of\\n'}\n",
      "{'file_name': '12', 'file_type': '.pdf', 'chunk_number': 2, 'content': 'TELANGANA\\n'}\n",
      "{'file_name': '12', 'file_type': '.pdf', 'chunk_number': 3, 'content': 'ఫారములు దొరుకు స్థలము శ్రీ వెంకటేశ్వర జిరాక్స్ సెంటర్, మెయిన్ రోడ్ సూర్యాపేట.\\n'}\n",
      "{'file_name': '12', 'file_type': '.pdf', 'chunk_number': 4, 'content': 'తెలంగాణ ప్రభుత్వం\\n'}\n",
      "{'file_name': '12', 'file_type': '.pdf', 'chunk_number': 5, 'content': 'రాబడి దృవ పత్రము కొరకు దరఖాస్తు\\n'}\n",
      "{'file_name': '12', 'file_type': '.pdf', 'chunk_number': 6, 'content': 'తహశిల్దారు / రెవిన్యూ డివిజన్ అధికారి / ఉప కలెక్టరు / సహాయ కలెక్టరు\\n'}\n",
      "{'file_name': '12', 'file_type': '.pdf', 'chunk_number': 7, 'content': '-సూర్యాపేట\\n'}\n",
      "{'file_name': '12', 'file_type': '.pdf', 'chunk_number': 8, 'content': 'అయ్యా,\\n'}\n",
      "{'file_name': '12', 'file_type': '.pdf', 'chunk_number': 9, 'content': 'మండలం / డివిజన్ సుర్యాపేట\\n'}\n",
      "{'file_name': '12', 'file_type': '.pdf', 'chunk_number': 10, 'content': '..జిల్లా.\\n'}\n",
      "{'file_name': '12', 'file_type': '.pdf', 'chunk_number': 11, 'content': 'నాకు మరియు నా కుమారుడు / కుమార్తె /భార్యకు రాబడి (ఆదాయ ధృవీకరణ పత్రము పొందుటకు ఈ క్రింది వివరాలు\\n'}\n",
      "{'file_name': '12', 'file_type': '.pdf', 'chunk_number': 12, 'content': 'సమర్పించుకొనుచున్నాను.\\n'}\n",
      "{'file_name': '12', 'file_type': '.pdf', 'chunk_number': 13, 'content': 'నేను అనగా\\n'}\n",
      "{'file_name': '12', 'file_type': '.pdf', 'chunk_number': 14, 'content': 'ధరావత్\\nనేను సూర్యాపేట\\n'}\n",
      "{'file_name': '12', 'file_type': '.pdf', 'chunk_number': 15, 'content': 'సందీప్\\n'}\n",
      "{'file_name': '12', 'file_type': '.pdf', 'chunk_number': 16, 'content': 'తండ్రి / తల్లి-/ భర్త ధరావత్\\n'}\n",
      "{'file_name': '12', 'file_type': '.pdf', 'chunk_number': 17, 'content': 'భీమా\\n'}\n",
      "{'file_name': '12', 'file_type': '.pdf', 'chunk_number': 18, 'content': 'అ\\n'}\n",
      "{'file_name': '12', 'file_type': '.pdf', 'chunk_number': 19, 'content': 'మండలంలోని మర్కారం\\n(\\nదుబ్బతండ) 10వ\\nవార్డు / గ్రామములో\\n'}\n",
      "{'file_name': '12', 'file_type': '.pdf', 'chunk_number': 20, 'content': '.నంబరు గల ఇంటిలో నివసిస్తున్నాను. నాకు..\\n'}\n",
      "{'file_name': '12', 'file_type': '.pdf', 'chunk_number': 21, 'content': 'గులాబీ / తెలుపు\\n'}\n",
      "{'file_name': '12', 'file_type': '.pdf', 'chunk_number': 22, 'content': 'రేషన్ కార్డు మరియు ఆదార్ కార్డు నెంబర్ 6675 7352 7850 కలదు. నా ఆదాయము సంవత్సరమునకు అన్నీ\\n/- లు (అక్షరాలా పదివేల రూపాయిలు.\\n'}\n",
      "{'file_name': '12', 'file_type': '.pdf', 'chunk_number': 23, 'content': 'విధములా కలసి రూ. 10, 000\\n'}\n",
      "{'file_name': '12', 'file_type': '.pdf', 'chunk_number': 24, 'content': 'రూపాయలునియూ, నాకు పై ద్రువపత్రము\\n'}\n",
      "{'file_name': '12', 'file_type': '.pdf', 'chunk_number': 25, 'content': 'కావున ఇప్పించగోరుతున్నాను.\\n'}\n",
      "{'file_name': '12', 'file_type': '.pdf', 'chunk_number': 26, 'content': 'ధరఖాస్తుదారుని వివరములు:-\\n'}\n",
      "{'file_name': '12', 'file_type': '.pdf', 'chunk_number': 27, 'content': 'లింగము :- పురుషుడు\\n'}\n",
      "{'file_name': '12', 'file_type': '.pdf', 'chunk_number': 28, 'content': '..మాత్రమే)\\n'}\n",
      "{'file_name': '12', 'file_type': '.pdf', 'chunk_number': 29, 'content': '...నిమిత్తము కావలెను,\\n'}\n",
      "{'file_name': '12', 'file_type': '.pdf', 'chunk_number': 30, 'content': 'చదువుల\\n'}\n",
      "{'file_name': '12', 'file_type': '.pdf', 'chunk_number': 31, 'content': 'పుట్టిన తేది :- 25/03/2002\\nజిల్లా :- సూర్యాపేట\\n'}\n",
      "{'file_name': '12', 'file_type': '.pdf', 'chunk_number': 32, 'content': 'లోకాలిటి / ల్యాండ్ మార్క్ :- సూర్యాపేడు.\\n'}\n",
      "{'file_name': '12', 'file_type': '.pdf', 'chunk_number': 33, 'content': 'పిన్ కోడ్ నెం :-....\\n'}\n",
      "{'file_name': '12', 'file_type': '.pdf', 'chunk_number': 34, 'content': '508376.\\n'}\n",
      "{'file_name': '12', 'file_type': '.pdf', 'chunk_number': 35, 'content': 'మొబైల్ నెం:- 6309508921\\n'}\n",
      "{'file_name': '12', 'file_type': '.pdf', 'chunk_number': 36, 'content': 'ఆదాయము వచ్చు విధానము (వృత్తి లేదా వ్యాపారము స్పష్టంముగా వ్రాయవలయును) :\\n'}\n",
      "{'file_name': '12', 'file_type': '.pdf', 'chunk_number': 37, 'content': '1. భూముల నుండి మరియు భవనముల నుండి\\n'}\n",
      "{'file_name': '12', 'file_type': '.pdf', 'chunk_number': 38, 'content': 'రూ.\\n'}\n",
      "{'file_name': '12', 'file_type': '.pdf', 'chunk_number': 39, 'content': '2.\\n'}\n",
      "{'file_name': '12', 'file_type': '.pdf', 'chunk_number': 40, 'content': 'వ్యాపారము రీత్యా\\n'}\n",
      "{'file_name': '12', 'file_type': '.pdf', 'chunk_number': 41, 'content': 'రూ.\\n'}\n",
      "{'file_name': '12', 'file_type': '.pdf', 'chunk_number': 42, 'content': '3. భార్యాభర్త కలిపి జీతము రీత్యా\\n'}\n",
      "{'file_name': '12', 'file_type': '.pdf', 'chunk_number': 43, 'content': 'రూ.\\n'}\n",
      "{'file_name': '12', 'file_type': '.pdf', 'chunk_number': 44, 'content': '4.\\n'}\n",
      "{'file_name': '12', 'file_type': '.pdf', 'chunk_number': 45, 'content': '. రోజు కూలి రీత్యా\\n'}\n",
      "{'file_name': '12', 'file_type': '.pdf', 'chunk_number': 46, 'content': 'రూ.\\n'}\n",
      "{'file_name': '12', 'file_type': '.pdf', 'chunk_number': 47, 'content': 'రూ.\\n'}\n",
      "{'file_name': '12', 'file_type': '.pdf', 'chunk_number': 48, 'content': '5. మరియు ఇతర మార్గముల ద్వారా\\n'}\n",
      "{'file_name': '12', 'file_type': '.pdf', 'chunk_number': 49, 'content': '(ఆయా మార్గముల వివరములు తెలియపరిచాము.)\\n'}\n",
      "{'file_name': '12', 'file_type': '.pdf', 'chunk_number': 50, 'content': 'మొత్తం\\n'}\n",
      "{'file_name': '12', 'file_type': '.pdf', 'chunk_number': 51, 'content': 'రూ :\\n'}\n",
      "{'file_name': '12', 'file_type': '.pdf', 'chunk_number': 52, 'content': 'డిక్లరేషన్\\n'}\n",
      "{'file_name': '12', 'file_type': '.pdf', 'chunk_number': 53, 'content': 'పై విషయములు యధార్దములు అని తెలియపర్చుకొనుచున్నాను. ఈ విషయములు యధార్ధములు కానిచో ప్రభుత్వము వారు\\n'}\n",
      "{'file_name': '12', 'file_type': '.pdf', 'chunk_number': 54, 'content': 'ఇండియన్ పీనల్ కోడ్ క్రింద గైకొను చర్యలకు భాద్యుడును.\\n'}\n",
      "{'file_name': '12', 'file_type': '.pdf', 'chunk_number': 55, 'content': 'స్థలం:-\\nతేది:-\\n'}\n",
      "{'file_name': '12', 'file_type': '.pdf', 'chunk_number': 56, 'content': '3. భీమా\\n'}\n",
      "{'file_name': '12', 'file_type': '.pdf', 'chunk_number': 57, 'content': 'D.Sandeep.\\n'}\n",
      "{'file_name': '12', 'file_type': '.pdf', 'chunk_number': 58, 'content': 'తల్లి / తండ్రి/ భర్త / సంరక్షకుడు సంతకం\\n'}\n",
      "{'file_name': '12', 'file_type': '.pdf', 'chunk_number': 59, 'content': 'ధరఖాస్తు దారుని సంతకం/\\n'}\n"
     ]
    }
   ],
   "source": [
    "# If you already have a Document AI Processor in your project, assign the full processor resource name here.\n",
    "processor_name = \"projects/332125695616/locations/us/processors/a6bceed480e9d614\"\n",
    "extracted_data: List[Dict] = []\n",
    "\n",
    "# Path to the single PDF file\n",
    "pdf_path = \"Docs/12.pdf\"\n",
    "file_name, file_type = os.path.splitext(os.path.basename(pdf_path))\n",
    "\n",
    "print(f\"Processing {file_name}\")\n",
    "\n",
    "def process_document(processor_name: str, file_path: str) -> documentai.Document:\n",
    "    client = documentai.DocumentProcessorServiceClient()\n",
    "\n",
    "    # Read the file into memory\n",
    "    with open(file_path, \"rb\") as f:\n",
    "        document_content = f.read()\n",
    "\n",
    "    # Configure the request\n",
    "    request = documentai.ProcessRequest(\n",
    "        name=processor_name,\n",
    "        raw_document=documentai.RawDocument(\n",
    "            content=document_content,\n",
    "            mime_type=\"application/pdf\"\n",
    "        )\n",
    "    )\n",
    "\n",
    "    result = client.process_document(request=request)\n",
    "    return result.document\n",
    "\n",
    "# Process the document\n",
    "document = process_document(processor_name, file_path=pdf_path)\n",
    "\n",
    "if document:\n",
    "    # Using Document AI Toolbox to handle post-processing\n",
    "    wrapped_document = Document.from_documentai_document(document)\n",
    "\n",
    "    # Split the text into chunks based on paragraphs\n",
    "    document_chunks = [\n",
    "        paragraph.text\n",
    "        for page in wrapped_document.pages\n",
    "        for paragraph in page.paragraphs\n",
    "    ]\n",
    "\n",
    "    # Can also split into chunks by page or blocks.\n",
    "    # document_chunks = [page.text for page in wrapped_document.pages]\n",
    "    # document_chunks = [block.text for page in wrapped_document.pages for block in page.blocks]\n",
    "\n",
    "    # Loop through each chunk and create a dictionary with metadata and content\n",
    "    for chunk_number, chunk_content in enumerate(document_chunks, start=1):\n",
    "        # Append the chunk information to the extracted_data list\n",
    "        extracted_data.append(\n",
    "            {\n",
    "                \"file_name\": file_name,\n",
    "                \"file_type\": file_type,\n",
    "                \"chunk_number\": chunk_number,\n",
    "                \"content\": chunk_content,\n",
    "            }\n",
    "        )\n",
    "\n",
    "# Output the extracted data\n",
    "for data in extracted_data:\n",
    "    print(data)"
   ]
  },
  {
   "cell_type": "code",
   "execution_count": 10,
   "metadata": {
    "colab": {
     "base_uri": "https://localhost:8080/"
    },
    "id": "F80VoBT7ii0H",
    "outputId": "9af97f60-e1d2-4e66-9cc1-7debe9098854"
   },
   "outputs": [],
   "source": [
    "combined_list = [t[\"content\"] for t in extracted_data]\n",
    "combined_str = \"\".join(combined_list)\n",
    "# print(combined_str)"
   ]
  },
  {
   "cell_type": "code",
   "execution_count": 21,
   "metadata": {},
   "outputs": [
    {
     "name": "stdout",
     "output_type": "stream",
     "text": [
      "Requirement already satisfied: indic_transliteration in /home/j05/anaconda3/envs/grants/lib/python3.9/site-packages (2.3.61)\n",
      "Requirement already satisfied: backports.functools-lru-cache in /home/j05/anaconda3/envs/grants/lib/python3.9/site-packages (from indic_transliteration) (2.0.0)\n",
      "Requirement already satisfied: regex in /home/j05/anaconda3/envs/grants/lib/python3.9/site-packages (from indic_transliteration) (2024.7.24)\n",
      "Requirement already satisfied: typer in /home/j05/anaconda3/envs/grants/lib/python3.9/site-packages (from indic_transliteration) (0.12.3)\n",
      "Requirement already satisfied: toml in /home/j05/anaconda3/envs/grants/lib/python3.9/site-packages (from indic_transliteration) (0.10.2)\n",
      "Requirement already satisfied: roman in /home/j05/anaconda3/envs/grants/lib/python3.9/site-packages (from indic_transliteration) (4.2)\n",
      "Requirement already satisfied: click>=8.0.0 in /home/j05/anaconda3/envs/grants/lib/python3.9/site-packages (from typer->indic_transliteration) (8.1.7)\n",
      "Requirement already satisfied: typing-extensions>=3.7.4.3 in /home/j05/anaconda3/envs/grants/lib/python3.9/site-packages (from typer->indic_transliteration) (4.12.2)\n",
      "Requirement already satisfied: shellingham>=1.3.0 in /home/j05/anaconda3/envs/grants/lib/python3.9/site-packages (from typer->indic_transliteration) (1.5.4)\n",
      "Requirement already satisfied: rich>=10.11.0 in /home/j05/anaconda3/envs/grants/lib/python3.9/site-packages (from typer->indic_transliteration) (13.7.1)\n",
      "Requirement already satisfied: markdown-it-py>=2.2.0 in /home/j05/anaconda3/envs/grants/lib/python3.9/site-packages (from rich>=10.11.0->typer->indic_transliteration) (3.0.0)\n",
      "Requirement already satisfied: pygments<3.0.0,>=2.13.0 in /home/j05/anaconda3/envs/grants/lib/python3.9/site-packages (from rich>=10.11.0->typer->indic_transliteration) (2.18.0)\n",
      "Requirement already satisfied: mdurl~=0.1 in /home/j05/anaconda3/envs/grants/lib/python3.9/site-packages (from markdown-it-py>=2.2.0->rich>=10.11.0->typer->indic_transliteration) (0.1.2)\n"
     ]
    }
   ],
   "source": [
    "!pip install indic_transliteration"
   ]
  },
  {
   "cell_type": "code",
   "execution_count": 22,
   "metadata": {},
   "outputs": [
    {
     "name": "stdout",
     "output_type": "stream",
     "text": [
      "Of\n",
      "TELANGANA\n",
      "phAramulu dòruku sthalamu shrI vèMkaTeshvara jirAks sèMTar, mèyin roD sUryApeTa.\n",
      "tèlaMgANa prabhutvaM\n",
      "rAbaDi dRRiva patramu kòraku darakhAstu\n",
      "tahashildAru / rèvinyU Divijan adhikAri / upa kalèkTaru / sahAya kalèkTaru\n",
      "-sUryApeTa\n",
      "ayyA,\n",
      "maMDalaM / Divijan suryApeTa\n",
      "..jillA.\n",
      "nAku mariyu nA kumAruDu / kumArtè /bhAryaku rAbaDi (AdAya dhRRivIkaraNa patramu pòMduTaku I kriMdi vivarAlu\n",
      "samarpiMchukònuchunnAnu.\n",
      "nenu anagA\n",
      "dharAvat\n",
      "nenu sUryApeTa\n",
      "saMdIp\n",
      "taMDri / talli-/ bharta dharAvat\n",
      "bhImA\n",
      "a\n",
      "maMDalaMloni markAraM\n",
      "(\n",
      "dubbataMDa) 10va\n",
      "vArDu / grAmamulo\n",
      ".naMbaru gala iMTilo nivasistunnAnu. nAku..\n",
      "gulAbI / tèlupu\n",
      "reShan kArDu mariyu AdAr kArDu nèMbar 6675 7352 7850 kaladu. nA AdAyamu saMvatsaramunaku annI\n",
      "/- lu (akSharAlA padivela rUpAyilu.\n",
      "vidhamulA kalasi rU. 10, 000\n",
      "rUpAyaluniyU, nAku pai druvapatramu\n",
      "kAvuna ippiMchagorutunnAnu.\n",
      "dharakhAstudAruni vivaramulu:-\n",
      "liMgamu :- puruShuDu\n",
      "..mAtrame)\n",
      "...nimittamu kAvalènu,\n",
      "chaduvula\n",
      "puTTina tedi :- 25/03/2002\n",
      "jillA :- sUryApeTa\n",
      "lokAliTi / lyAMD mArk :- sUryApeDu.\n",
      "pin koD nèM :-....\n",
      "508376.\n",
      "mòbail nèM:- 6309508921\n",
      "AdAyamu vachchu vidhAnamu (vRRitti ledA vyApAramu spaShTaMmugA vrAyavalayunu) :\n",
      "1. bhUmula nuMDi mariyu bhavanamula nuMDi\n",
      "rU.\n",
      "2.\n",
      "vyApAramu rItyA\n",
      "rU.\n",
      "3. bhAryAbharta kalipi jItamu rItyA\n",
      "rU.\n",
      "4.\n",
      ". roju kUli rItyA\n",
      "rU.\n",
      "rU.\n",
      "5. mariyu itara mArgamula dvArA\n",
      "(AyA mArgamula vivaramulu tèliyaparichAmu.)\n",
      "mòttaM\n",
      "rU :\n",
      "DiklareShan\n",
      "pai viShayamulu yadhArdamulu ani tèliyaparchukònuchunnAnu. I viShayamulu yadhArdhamulu kAnicho prabhutvamu vAru\n",
      "iMDiyan pInal koD kriMda gaikònu charyalaku bhAdyuDunu.\n",
      "sthalaM:-\n",
      "tedi:-\n",
      "3. bhImA\n",
      "D.Sandeep.\n",
      "talli / taMDri/ bharta / saMrakShakuDu saMtakaM\n",
      "dharakhAstu dAruni saMtakaM/\n",
      "\n"
     ]
    }
   ],
   "source": [
    "from indic_transliteration import sanscript\n",
    "from indic_transliteration.sanscript import transliterate\n",
    "\n",
    "text = combined_str\n",
    "transliterated_text = transliterate(text, sanscript.TELUGU, sanscript.ITRANS)\n",
    "\n",
    "print(transliterated_text) "
   ]
  },
  {
   "cell_type": "code",
   "execution_count": 23,
   "metadata": {},
   "outputs": [
    {
     "name": "stdout",
     "output_type": "stream",
     "text": [
      "{ \"Adhaar Card Details\" : \n",
      "  { \"Adhaar Number\": \"6675 7352 7850\", \n",
      "    \"Name\": \"\", \n",
      "    \"Date of Birth\": \"25/03/2002\", \n",
      "    \"Gender\": \"Male\", \n",
      "    \"Address\": \"\", \n",
      "    \"Pin Code\": \"508376\", \n",
      "    \"Mobile Number\": \"6309508921\" \n",
      "  }\n",
      "}\n",
      "\n",
      " \n",
      "\n",
      " \n"
     ]
    }
   ],
   "source": [
    "import ollama\n",
    "response = ollama.chat(model='llama3', messages=[\n",
    "  {\n",
    "    'role': 'user',\n",
    "    'content': \"\"\"[Requirement] for the following content parsed from a scaned adhaar card document. The Adhaar number is a 12 digit number with spaces in between. I want you to give me the following data in the following json structure. \n",
    "    [json_structure] {{\"Name\":---, \"Adhaar_number\":---, \"Date_of_birth\":---}}\n",
    "    [\"content\"]{0}\n",
    "    \"\"\".format(transliterated_text),\n",
    "  },\n",
    "], format = \"json\")\n",
    "print(response['message']['content'])"
   ]
  },
  {
   "cell_type": "code",
   "execution_count": 21,
   "metadata": {},
   "outputs": [
    {
     "data": {
      "text/plain": [
       "\u001b[0;31mSignature:\u001b[0m\n",
       "\u001b[0mollama\u001b[0m\u001b[0;34m.\u001b[0m\u001b[0mchat\u001b[0m\u001b[0;34m(\u001b[0m\u001b[0;34m\u001b[0m\n",
       "\u001b[0;34m\u001b[0m    \u001b[0mmodel\u001b[0m\u001b[0;34m:\u001b[0m \u001b[0mstr\u001b[0m \u001b[0;34m=\u001b[0m \u001b[0;34m''\u001b[0m\u001b[0;34m,\u001b[0m\u001b[0;34m\u001b[0m\n",
       "\u001b[0;34m\u001b[0m    \u001b[0mmessages\u001b[0m\u001b[0;34m:\u001b[0m \u001b[0mOptional\u001b[0m\u001b[0;34m[\u001b[0m\u001b[0mSequence\u001b[0m\u001b[0;34m[\u001b[0m\u001b[0mollama\u001b[0m\u001b[0;34m.\u001b[0m\u001b[0m_types\u001b[0m\u001b[0;34m.\u001b[0m\u001b[0mMessage\u001b[0m\u001b[0;34m]\u001b[0m\u001b[0;34m]\u001b[0m \u001b[0;34m=\u001b[0m \u001b[0;32mNone\u001b[0m\u001b[0;34m,\u001b[0m\u001b[0;34m\u001b[0m\n",
       "\u001b[0;34m\u001b[0m    \u001b[0mtools\u001b[0m\u001b[0;34m:\u001b[0m \u001b[0mOptional\u001b[0m\u001b[0;34m[\u001b[0m\u001b[0mSequence\u001b[0m\u001b[0;34m[\u001b[0m\u001b[0mollama\u001b[0m\u001b[0;34m.\u001b[0m\u001b[0m_types\u001b[0m\u001b[0;34m.\u001b[0m\u001b[0mTool\u001b[0m\u001b[0;34m]\u001b[0m\u001b[0;34m]\u001b[0m \u001b[0;34m=\u001b[0m \u001b[0;32mNone\u001b[0m\u001b[0;34m,\u001b[0m\u001b[0;34m\u001b[0m\n",
       "\u001b[0;34m\u001b[0m    \u001b[0mstream\u001b[0m\u001b[0;34m:\u001b[0m \u001b[0mbool\u001b[0m \u001b[0;34m=\u001b[0m \u001b[0;32mFalse\u001b[0m\u001b[0;34m,\u001b[0m\u001b[0;34m\u001b[0m\n",
       "\u001b[0;34m\u001b[0m    \u001b[0mformat\u001b[0m\u001b[0;34m:\u001b[0m \u001b[0mLiteral\u001b[0m\u001b[0;34m[\u001b[0m\u001b[0;34m''\u001b[0m\u001b[0;34m,\u001b[0m \u001b[0;34m'json'\u001b[0m\u001b[0;34m]\u001b[0m \u001b[0;34m=\u001b[0m \u001b[0;34m''\u001b[0m\u001b[0;34m,\u001b[0m\u001b[0;34m\u001b[0m\n",
       "\u001b[0;34m\u001b[0m    \u001b[0moptions\u001b[0m\u001b[0;34m:\u001b[0m \u001b[0mOptional\u001b[0m\u001b[0;34m[\u001b[0m\u001b[0mollama\u001b[0m\u001b[0;34m.\u001b[0m\u001b[0m_types\u001b[0m\u001b[0;34m.\u001b[0m\u001b[0mOptions\u001b[0m\u001b[0;34m]\u001b[0m \u001b[0;34m=\u001b[0m \u001b[0;32mNone\u001b[0m\u001b[0;34m,\u001b[0m\u001b[0;34m\u001b[0m\n",
       "\u001b[0;34m\u001b[0m    \u001b[0mkeep_alive\u001b[0m\u001b[0;34m:\u001b[0m \u001b[0mUnion\u001b[0m\u001b[0;34m[\u001b[0m\u001b[0mfloat\u001b[0m\u001b[0;34m,\u001b[0m \u001b[0mstr\u001b[0m\u001b[0;34m,\u001b[0m \u001b[0mNoneType\u001b[0m\u001b[0;34m]\u001b[0m \u001b[0;34m=\u001b[0m \u001b[0;32mNone\u001b[0m\u001b[0;34m,\u001b[0m\u001b[0;34m\u001b[0m\n",
       "\u001b[0;34m\u001b[0m\u001b[0;34m)\u001b[0m \u001b[0;34m->\u001b[0m \u001b[0mUnion\u001b[0m\u001b[0;34m[\u001b[0m\u001b[0mMapping\u001b[0m\u001b[0;34m[\u001b[0m\u001b[0mstr\u001b[0m\u001b[0;34m,\u001b[0m \u001b[0mAny\u001b[0m\u001b[0;34m]\u001b[0m\u001b[0;34m,\u001b[0m \u001b[0mcollections\u001b[0m\u001b[0;34m.\u001b[0m\u001b[0mabc\u001b[0m\u001b[0;34m.\u001b[0m\u001b[0mIterator\u001b[0m\u001b[0;34m[\u001b[0m\u001b[0mMapping\u001b[0m\u001b[0;34m[\u001b[0m\u001b[0mstr\u001b[0m\u001b[0;34m,\u001b[0m \u001b[0mAny\u001b[0m\u001b[0;34m]\u001b[0m\u001b[0;34m]\u001b[0m\u001b[0;34m]\u001b[0m\u001b[0;34m\u001b[0m\u001b[0;34m\u001b[0m\u001b[0m\n",
       "\u001b[0;31mDocstring:\u001b[0m\n",
       "Create a chat response using the requested model.\n",
       "\n",
       "Raises `RequestError` if a model is not provided.\n",
       "\n",
       "Raises `ResponseError` if the request could not be fulfilled.\n",
       "\n",
       "Returns `ChatResponse` if `stream` is `False`, otherwise returns a `ChatResponse` generator.\n",
       "\u001b[0;31mFile:\u001b[0m      /opt/anaconda3/envs/docai/lib/python3.11/site-packages/ollama/_client.py\n",
       "\u001b[0;31mType:\u001b[0m      method"
      ]
     },
     "metadata": {},
     "output_type": "display_data"
    }
   ],
   "source": [
    "ollama.chat?"
   ]
  },
  {
   "cell_type": "code",
   "execution_count": null,
   "metadata": {},
   "outputs": [],
   "source": []
  },
  {
   "cell_type": "code",
   "execution_count": null,
   "metadata": {},
   "outputs": [],
   "source": []
  },
  {
   "cell_type": "code",
   "execution_count": null,
   "metadata": {},
   "outputs": [],
   "source": []
  },
  {
   "cell_type": "code",
   "execution_count": null,
   "metadata": {},
   "outputs": [],
   "source": []
  },
  {
   "cell_type": "code",
   "execution_count": null,
   "metadata": {},
   "outputs": [],
   "source": []
  },
  {
   "cell_type": "code",
   "execution_count": null,
   "metadata": {
    "colab": {
     "base_uri": "https://localhost:8080/"
    },
    "id": "DzXGdm7gD4gC",
    "outputId": "73786b2f-f64a-4bae-a4b1-6c74410a99d7"
   },
   "outputs": [
    {
     "name": "stdout",
     "output_type": "stream",
     "text": [
      "Requirement already satisfied: spacy in /usr/local/lib/python3.10/dist-packages (3.7.5)\n",
      "Requirement already satisfied: spacy-legacy<3.1.0,>=3.0.11 in /usr/local/lib/python3.10/dist-packages (from spacy) (3.0.12)\n",
      "Requirement already satisfied: spacy-loggers<2.0.0,>=1.0.0 in /usr/local/lib/python3.10/dist-packages (from spacy) (1.0.5)\n",
      "Requirement already satisfied: murmurhash<1.1.0,>=0.28.0 in /usr/local/lib/python3.10/dist-packages (from spacy) (1.0.10)\n",
      "Requirement already satisfied: cymem<2.1.0,>=2.0.2 in /usr/local/lib/python3.10/dist-packages (from spacy) (2.0.8)\n",
      "Requirement already satisfied: preshed<3.1.0,>=3.0.2 in /usr/local/lib/python3.10/dist-packages (from spacy) (3.0.9)\n",
      "Requirement already satisfied: thinc<8.3.0,>=8.2.2 in /usr/local/lib/python3.10/dist-packages (from spacy) (8.2.5)\n",
      "Requirement already satisfied: wasabi<1.2.0,>=0.9.1 in /usr/local/lib/python3.10/dist-packages (from spacy) (1.1.3)\n",
      "Requirement already satisfied: srsly<3.0.0,>=2.4.3 in /usr/local/lib/python3.10/dist-packages (from spacy) (2.4.8)\n",
      "Requirement already satisfied: catalogue<2.1.0,>=2.0.6 in /usr/local/lib/python3.10/dist-packages (from spacy) (2.0.10)\n",
      "Requirement already satisfied: weasel<0.5.0,>=0.1.0 in /usr/local/lib/python3.10/dist-packages (from spacy) (0.4.1)\n",
      "Requirement already satisfied: typer<1.0.0,>=0.3.0 in /usr/local/lib/python3.10/dist-packages (from spacy) (0.12.3)\n",
      "Requirement already satisfied: tqdm<5.0.0,>=4.38.0 in /usr/local/lib/python3.10/dist-packages (from spacy) (4.66.4)\n",
      "Requirement already satisfied: requests<3.0.0,>=2.13.0 in /usr/local/lib/python3.10/dist-packages (from spacy) (2.31.0)\n",
      "Requirement already satisfied: pydantic!=1.8,!=1.8.1,<3.0.0,>=1.7.4 in /usr/local/lib/python3.10/dist-packages (from spacy) (2.8.2)\n",
      "Requirement already satisfied: jinja2 in /usr/local/lib/python3.10/dist-packages (from spacy) (3.1.4)\n",
      "Requirement already satisfied: setuptools in /usr/local/lib/python3.10/dist-packages (from spacy) (71.0.4)\n",
      "Requirement already satisfied: packaging>=20.0 in /usr/local/lib/python3.10/dist-packages (from spacy) (24.1)\n",
      "Requirement already satisfied: langcodes<4.0.0,>=3.2.0 in /usr/local/lib/python3.10/dist-packages (from spacy) (3.4.0)\n",
      "Requirement already satisfied: numpy>=1.19.0 in /usr/local/lib/python3.10/dist-packages (from spacy) (1.26.4)\n",
      "Requirement already satisfied: language-data>=1.2 in /usr/local/lib/python3.10/dist-packages (from langcodes<4.0.0,>=3.2.0->spacy) (1.2.0)\n",
      "Requirement already satisfied: annotated-types>=0.4.0 in /usr/local/lib/python3.10/dist-packages (from pydantic!=1.8,!=1.8.1,<3.0.0,>=1.7.4->spacy) (0.7.0)\n",
      "Requirement already satisfied: pydantic-core==2.20.1 in /usr/local/lib/python3.10/dist-packages (from pydantic!=1.8,!=1.8.1,<3.0.0,>=1.7.4->spacy) (2.20.1)\n",
      "Requirement already satisfied: typing-extensions>=4.6.1 in /usr/local/lib/python3.10/dist-packages (from pydantic!=1.8,!=1.8.1,<3.0.0,>=1.7.4->spacy) (4.12.2)\n",
      "Requirement already satisfied: charset-normalizer<4,>=2 in /usr/local/lib/python3.10/dist-packages (from requests<3.0.0,>=2.13.0->spacy) (3.3.2)\n",
      "Requirement already satisfied: idna<4,>=2.5 in /usr/local/lib/python3.10/dist-packages (from requests<3.0.0,>=2.13.0->spacy) (3.7)\n",
      "Requirement already satisfied: urllib3<3,>=1.21.1 in /usr/local/lib/python3.10/dist-packages (from requests<3.0.0,>=2.13.0->spacy) (2.0.7)\n",
      "Requirement already satisfied: certifi>=2017.4.17 in /usr/local/lib/python3.10/dist-packages (from requests<3.0.0,>=2.13.0->spacy) (2024.7.4)\n",
      "Requirement already satisfied: blis<0.8.0,>=0.7.8 in /usr/local/lib/python3.10/dist-packages (from thinc<8.3.0,>=8.2.2->spacy) (0.7.11)\n",
      "Requirement already satisfied: confection<1.0.0,>=0.0.1 in /usr/local/lib/python3.10/dist-packages (from thinc<8.3.0,>=8.2.2->spacy) (0.1.5)\n",
      "Requirement already satisfied: click>=8.0.0 in /usr/local/lib/python3.10/dist-packages (from typer<1.0.0,>=0.3.0->spacy) (8.1.7)\n",
      "Requirement already satisfied: shellingham>=1.3.0 in /usr/local/lib/python3.10/dist-packages (from typer<1.0.0,>=0.3.0->spacy) (1.5.4)\n",
      "Requirement already satisfied: rich>=10.11.0 in /usr/local/lib/python3.10/dist-packages (from typer<1.0.0,>=0.3.0->spacy) (13.7.1)\n",
      "Requirement already satisfied: cloudpathlib<1.0.0,>=0.7.0 in /usr/local/lib/python3.10/dist-packages (from weasel<0.5.0,>=0.1.0->spacy) (0.18.1)\n",
      "Requirement already satisfied: smart-open<8.0.0,>=5.2.1 in /usr/local/lib/python3.10/dist-packages (from weasel<0.5.0,>=0.1.0->spacy) (7.0.4)\n",
      "Requirement already satisfied: MarkupSafe>=2.0 in /usr/local/lib/python3.10/dist-packages (from jinja2->spacy) (2.1.5)\n",
      "Requirement already satisfied: marisa-trie>=0.7.7 in /usr/local/lib/python3.10/dist-packages (from language-data>=1.2->langcodes<4.0.0,>=3.2.0->spacy) (1.2.0)\n",
      "Requirement already satisfied: markdown-it-py>=2.2.0 in /usr/local/lib/python3.10/dist-packages (from rich>=10.11.0->typer<1.0.0,>=0.3.0->spacy) (3.0.0)\n",
      "Requirement already satisfied: pygments<3.0.0,>=2.13.0 in /usr/local/lib/python3.10/dist-packages (from rich>=10.11.0->typer<1.0.0,>=0.3.0->spacy) (2.16.1)\n",
      "Requirement already satisfied: wrapt in /usr/local/lib/python3.10/dist-packages (from smart-open<8.0.0,>=5.2.1->weasel<0.5.0,>=0.1.0->spacy) (1.14.1)\n",
      "Requirement already satisfied: mdurl~=0.1 in /usr/local/lib/python3.10/dist-packages (from markdown-it-py>=2.2.0->rich>=10.11.0->typer<1.0.0,>=0.3.0->spacy) (0.1.2)\n",
      "Collecting en-core-web-sm==3.7.1\n",
      "  Downloading https://github.com/explosion/spacy-models/releases/download/en_core_web_sm-3.7.1/en_core_web_sm-3.7.1-py3-none-any.whl (12.8 MB)\n",
      "\u001b[2K     \u001b[90m━━━━━━━━━━━━━━━━━━━━━━━━━━━━━━━━━━━━━━━━\u001b[0m \u001b[32m12.8/12.8 MB\u001b[0m \u001b[31m85.7 MB/s\u001b[0m eta \u001b[36m0:00:00\u001b[0m\n",
      "\u001b[?25hRequirement already satisfied: spacy<3.8.0,>=3.7.2 in /usr/local/lib/python3.10/dist-packages (from en-core-web-sm==3.7.1) (3.7.5)\n",
      "Requirement already satisfied: spacy-legacy<3.1.0,>=3.0.11 in /usr/local/lib/python3.10/dist-packages (from spacy<3.8.0,>=3.7.2->en-core-web-sm==3.7.1) (3.0.12)\n",
      "Requirement already satisfied: spacy-loggers<2.0.0,>=1.0.0 in /usr/local/lib/python3.10/dist-packages (from spacy<3.8.0,>=3.7.2->en-core-web-sm==3.7.1) (1.0.5)\n",
      "Requirement already satisfied: murmurhash<1.1.0,>=0.28.0 in /usr/local/lib/python3.10/dist-packages (from spacy<3.8.0,>=3.7.2->en-core-web-sm==3.7.1) (1.0.10)\n",
      "Requirement already satisfied: cymem<2.1.0,>=2.0.2 in /usr/local/lib/python3.10/dist-packages (from spacy<3.8.0,>=3.7.2->en-core-web-sm==3.7.1) (2.0.8)\n",
      "Requirement already satisfied: preshed<3.1.0,>=3.0.2 in /usr/local/lib/python3.10/dist-packages (from spacy<3.8.0,>=3.7.2->en-core-web-sm==3.7.1) (3.0.9)\n",
      "Requirement already satisfied: thinc<8.3.0,>=8.2.2 in /usr/local/lib/python3.10/dist-packages (from spacy<3.8.0,>=3.7.2->en-core-web-sm==3.7.1) (8.2.5)\n",
      "Requirement already satisfied: wasabi<1.2.0,>=0.9.1 in /usr/local/lib/python3.10/dist-packages (from spacy<3.8.0,>=3.7.2->en-core-web-sm==3.7.1) (1.1.3)\n",
      "Requirement already satisfied: srsly<3.0.0,>=2.4.3 in /usr/local/lib/python3.10/dist-packages (from spacy<3.8.0,>=3.7.2->en-core-web-sm==3.7.1) (2.4.8)\n",
      "Requirement already satisfied: catalogue<2.1.0,>=2.0.6 in /usr/local/lib/python3.10/dist-packages (from spacy<3.8.0,>=3.7.2->en-core-web-sm==3.7.1) (2.0.10)\n",
      "Requirement already satisfied: weasel<0.5.0,>=0.1.0 in /usr/local/lib/python3.10/dist-packages (from spacy<3.8.0,>=3.7.2->en-core-web-sm==3.7.1) (0.4.1)\n",
      "Requirement already satisfied: typer<1.0.0,>=0.3.0 in /usr/local/lib/python3.10/dist-packages (from spacy<3.8.0,>=3.7.2->en-core-web-sm==3.7.1) (0.12.3)\n",
      "Requirement already satisfied: tqdm<5.0.0,>=4.38.0 in /usr/local/lib/python3.10/dist-packages (from spacy<3.8.0,>=3.7.2->en-core-web-sm==3.7.1) (4.66.4)\n",
      "Requirement already satisfied: requests<3.0.0,>=2.13.0 in /usr/local/lib/python3.10/dist-packages (from spacy<3.8.0,>=3.7.2->en-core-web-sm==3.7.1) (2.31.0)\n",
      "Requirement already satisfied: pydantic!=1.8,!=1.8.1,<3.0.0,>=1.7.4 in /usr/local/lib/python3.10/dist-packages (from spacy<3.8.0,>=3.7.2->en-core-web-sm==3.7.1) (2.8.2)\n",
      "Requirement already satisfied: jinja2 in /usr/local/lib/python3.10/dist-packages (from spacy<3.8.0,>=3.7.2->en-core-web-sm==3.7.1) (3.1.4)\n",
      "Requirement already satisfied: setuptools in /usr/local/lib/python3.10/dist-packages (from spacy<3.8.0,>=3.7.2->en-core-web-sm==3.7.1) (71.0.4)\n",
      "Requirement already satisfied: packaging>=20.0 in /usr/local/lib/python3.10/dist-packages (from spacy<3.8.0,>=3.7.2->en-core-web-sm==3.7.1) (24.1)\n",
      "Requirement already satisfied: langcodes<4.0.0,>=3.2.0 in /usr/local/lib/python3.10/dist-packages (from spacy<3.8.0,>=3.7.2->en-core-web-sm==3.7.1) (3.4.0)\n",
      "Requirement already satisfied: numpy>=1.19.0 in /usr/local/lib/python3.10/dist-packages (from spacy<3.8.0,>=3.7.2->en-core-web-sm==3.7.1) (1.26.4)\n",
      "Requirement already satisfied: language-data>=1.2 in /usr/local/lib/python3.10/dist-packages (from langcodes<4.0.0,>=3.2.0->spacy<3.8.0,>=3.7.2->en-core-web-sm==3.7.1) (1.2.0)\n",
      "Requirement already satisfied: annotated-types>=0.4.0 in /usr/local/lib/python3.10/dist-packages (from pydantic!=1.8,!=1.8.1,<3.0.0,>=1.7.4->spacy<3.8.0,>=3.7.2->en-core-web-sm==3.7.1) (0.7.0)\n",
      "Requirement already satisfied: pydantic-core==2.20.1 in /usr/local/lib/python3.10/dist-packages (from pydantic!=1.8,!=1.8.1,<3.0.0,>=1.7.4->spacy<3.8.0,>=3.7.2->en-core-web-sm==3.7.1) (2.20.1)\n",
      "Requirement already satisfied: typing-extensions>=4.6.1 in /usr/local/lib/python3.10/dist-packages (from pydantic!=1.8,!=1.8.1,<3.0.0,>=1.7.4->spacy<3.8.0,>=3.7.2->en-core-web-sm==3.7.1) (4.12.2)\n",
      "Requirement already satisfied: charset-normalizer<4,>=2 in /usr/local/lib/python3.10/dist-packages (from requests<3.0.0,>=2.13.0->spacy<3.8.0,>=3.7.2->en-core-web-sm==3.7.1) (3.3.2)\n",
      "Requirement already satisfied: idna<4,>=2.5 in /usr/local/lib/python3.10/dist-packages (from requests<3.0.0,>=2.13.0->spacy<3.8.0,>=3.7.2->en-core-web-sm==3.7.1) (3.7)\n",
      "Requirement already satisfied: urllib3<3,>=1.21.1 in /usr/local/lib/python3.10/dist-packages (from requests<3.0.0,>=2.13.0->spacy<3.8.0,>=3.7.2->en-core-web-sm==3.7.1) (2.0.7)\n",
      "Requirement already satisfied: certifi>=2017.4.17 in /usr/local/lib/python3.10/dist-packages (from requests<3.0.0,>=2.13.0->spacy<3.8.0,>=3.7.2->en-core-web-sm==3.7.1) (2024.7.4)\n",
      "Requirement already satisfied: blis<0.8.0,>=0.7.8 in /usr/local/lib/python3.10/dist-packages (from thinc<8.3.0,>=8.2.2->spacy<3.8.0,>=3.7.2->en-core-web-sm==3.7.1) (0.7.11)\n",
      "Requirement already satisfied: confection<1.0.0,>=0.0.1 in /usr/local/lib/python3.10/dist-packages (from thinc<8.3.0,>=8.2.2->spacy<3.8.0,>=3.7.2->en-core-web-sm==3.7.1) (0.1.5)\n",
      "Requirement already satisfied: click>=8.0.0 in /usr/local/lib/python3.10/dist-packages (from typer<1.0.0,>=0.3.0->spacy<3.8.0,>=3.7.2->en-core-web-sm==3.7.1) (8.1.7)\n",
      "Requirement already satisfied: shellingham>=1.3.0 in /usr/local/lib/python3.10/dist-packages (from typer<1.0.0,>=0.3.0->spacy<3.8.0,>=3.7.2->en-core-web-sm==3.7.1) (1.5.4)\n",
      "Requirement already satisfied: rich>=10.11.0 in /usr/local/lib/python3.10/dist-packages (from typer<1.0.0,>=0.3.0->spacy<3.8.0,>=3.7.2->en-core-web-sm==3.7.1) (13.7.1)\n",
      "Requirement already satisfied: cloudpathlib<1.0.0,>=0.7.0 in /usr/local/lib/python3.10/dist-packages (from weasel<0.5.0,>=0.1.0->spacy<3.8.0,>=3.7.2->en-core-web-sm==3.7.1) (0.18.1)\n",
      "Requirement already satisfied: smart-open<8.0.0,>=5.2.1 in /usr/local/lib/python3.10/dist-packages (from weasel<0.5.0,>=0.1.0->spacy<3.8.0,>=3.7.2->en-core-web-sm==3.7.1) (7.0.4)\n",
      "Requirement already satisfied: MarkupSafe>=2.0 in /usr/local/lib/python3.10/dist-packages (from jinja2->spacy<3.8.0,>=3.7.2->en-core-web-sm==3.7.1) (2.1.5)\n",
      "Requirement already satisfied: marisa-trie>=0.7.7 in /usr/local/lib/python3.10/dist-packages (from language-data>=1.2->langcodes<4.0.0,>=3.2.0->spacy<3.8.0,>=3.7.2->en-core-web-sm==3.7.1) (1.2.0)\n",
      "Requirement already satisfied: markdown-it-py>=2.2.0 in /usr/local/lib/python3.10/dist-packages (from rich>=10.11.0->typer<1.0.0,>=0.3.0->spacy<3.8.0,>=3.7.2->en-core-web-sm==3.7.1) (3.0.0)\n",
      "Requirement already satisfied: pygments<3.0.0,>=2.13.0 in /usr/local/lib/python3.10/dist-packages (from rich>=10.11.0->typer<1.0.0,>=0.3.0->spacy<3.8.0,>=3.7.2->en-core-web-sm==3.7.1) (2.16.1)\n",
      "Requirement already satisfied: wrapt in /usr/local/lib/python3.10/dist-packages (from smart-open<8.0.0,>=5.2.1->weasel<0.5.0,>=0.1.0->spacy<3.8.0,>=3.7.2->en-core-web-sm==3.7.1) (1.14.1)\n",
      "Requirement already satisfied: mdurl~=0.1 in /usr/local/lib/python3.10/dist-packages (from markdown-it-py>=2.2.0->rich>=10.11.0->typer<1.0.0,>=0.3.0->spacy<3.8.0,>=3.7.2->en-core-web-sm==3.7.1) (0.1.2)\n",
      "\u001b[38;5;2m✔ Download and installation successful\u001b[0m\n",
      "You can now load the package via spacy.load('en_core_web_sm')\n",
      "\u001b[38;5;3m⚠ Restart to reload dependencies\u001b[0m\n",
      "If you are in a Jupyter or Colab notebook, you may need to restart Python in\n",
      "order to load all the package's dependencies. You can do this by selecting the\n",
      "'Restart kernel' or 'Restart runtime' option.\n"
     ]
    }
   ],
   "source": [
    "!pip install spacy\n",
    "!python -m spacy download en_core_web_sm"
   ]
  },
  {
   "cell_type": "code",
   "execution_count": null,
   "metadata": {
    "id": "aDCmKxRhNJaU"
   },
   "outputs": [],
   "source": [
    "import spacy\n",
    "import re\n",
    "# Load the spaCy model\n",
    "nlp = spacy.load(\"en_core_web_sm\")"
   ]
  },
  {
   "cell_type": "code",
   "execution_count": null,
   "metadata": {
    "id": "g299p6JON7zf"
   },
   "outputs": [],
   "source": [
    "# Function to extract specific entities\n",
    "def extract_entities(text: str):\n",
    "    doc = nlp(text)\n",
    "    entities = {\n",
    "        \"NAME\": [],\n",
    "        \"DOB\": [],\n",
    "        \"AADHAAR\": [],\n",
    "        \"OTHER\": []\n",
    "    }\n",
    "\n",
    "    for ent in doc.ents:\n",
    "        if ent.label_ == \"PERSON\":\n",
    "            entities[\"NAME\"].append(ent.text)\n",
    "        elif ent.label_ == \"DATE\" and \"DOB\" in text:\n",
    "            entities[\"DOB\"].append(ent.text)\n",
    "        elif ent.label_ == \"CARDINAL\" and len(ent.text) == 12:\n",
    "            entities[\"AADHAAR\"].append(ent.text)\n",
    "        else:\n",
    "            entities[\"OTHER\"].append(ent.text)\n",
    "\n",
    "    return entities"
   ]
  },
  {
   "cell_type": "code",
   "execution_count": null,
   "metadata": {
    "colab": {
     "base_uri": "https://localhost:8080/"
    },
    "id": "TOejFUmcOC3b",
    "outputId": "f976e9c8-ff39-4a97-81db-d82019760fc8"
   },
   "outputs": [
    {
     "name": "stdout",
     "output_type": "stream",
     "text": [
      "Entities in 'Issue Date: 17/11/2011': {'NAME': [], 'DOB': [], 'AADHAAR': [], 'OTHER': []}\n",
      "Entities in 'భారత ప్రభుత్వం.\n",
      "Government of India': {'NAME': [], 'DOB': [], 'AADHAAR': [], 'OTHER': ['భారత']}\n",
      "Entities in 'ఆధార్': {'NAME': [], 'DOB': [], 'AADHAAR': [], 'OTHER': []}\n",
      "Entities in 'మాచర్ల లావణ్య': {'NAME': [], 'DOB': [], 'AADHAAR': [], 'OTHER': []}\n",
      "Entities in 'Macharla Lavanya': {'NAME': ['Macharla Lavanya'], 'DOB': [], 'AADHAAR': [], 'OTHER': []}\n",
      "Entities in 'పుట్టిన తేదీ/DOB: 06/01/2009': {'NAME': [], 'DOB': [], 'AADHAAR': [], 'OTHER': []}\n",
      "Entities in 'FEMALE': {'NAME': [], 'DOB': [], 'AADHAAR': [], 'OTHER': ['FEMALE']}\n",
      "Entities in '5339 3327 0762': {'NAME': [], 'DOB': [], 'AADHAAR': [], 'OTHER': ['5339 3327 0762']}\n",
      "Entities in 'VID: 9143 8081 7864 9387': {'NAME': [], 'DOB': [], 'AADHAAR': [], 'OTHER': ['VID', '8081 7864 9387']}\n",
      "Entities in 'నా ఆధార్, నా గుర్తింపు': {'NAME': ['నా గుర్తింపు'], 'DOB': [], 'AADHAAR': [], 'OTHER': ['నా ఆధార్']}\n",
      "Entities in 'Download Date: 10/09/2023': {'NAME': [], 'DOB': [], 'AADHAAR': [], 'OTHER': []}\n",
      "Entities in 'భారత విశిష్ట గుర్తింపు ప్రాధికార సంస్థ': {'NAME': [], 'DOB': [], 'AADHAAR': [], 'OTHER': []}\n",
      "Entities in 'Unique Identification Authority of India': {'NAME': [], 'DOB': [], 'AADHAAR': [], 'OTHER': ['Unique Identification Authority of India']}\n",
      "Entities in 'ఆధార్': {'NAME': [], 'DOB': [], 'AADHAAR': [], 'OTHER': []}\n",
      "Entities in 'చిరునామా:': {'NAME': [], 'DOB': [], 'AADHAAR': [], 'OTHER': []}\n",
      "Entities in 'D/O నరసింహ రావు, 00-0-0౨8, లెనిన్ నగర్,': {'NAME': [], 'DOB': [], 'AADHAAR': [], 'OTHER': ['00']}\n",
      "Entities in 'ఖమ్మం, ఖమ్మం,': {'NAME': [], 'DOB': [], 'AADHAAR': [], 'OTHER': []}\n",
      "Entities in 'ఆంధ్ర ప్రదేశ్ - 507001': {'NAME': [], 'DOB': [], 'AADHAAR': [], 'OTHER': []}\n",
      "Entities in 'Address:': {'NAME': [], 'DOB': [], 'AADHAAR': [], 'OTHER': []}\n",
      "Entities in 'D/O Narsimha Rao, 11-8-124, LENIN NAGAR,': {'NAME': [], 'DOB': [], 'AADHAAR': [], 'OTHER': ['11']}\n",
      "Entities in 'Khammam (Urban), Khammam,': {'NAME': ['Khammam'], 'DOB': [], 'AADHAAR': [], 'OTHER': ['Khammam (Urban']}\n",
      "Entities in 'Andhra Pradesh - 507001': {'NAME': ['Andhra Pradesh - 507001'], 'DOB': [], 'AADHAAR': [], 'OTHER': []}\n",
      "Entities in '1947': {'NAME': [], 'DOB': [], 'AADHAAR': [], 'OTHER': ['1947']}\n",
      "Entities in '5339 3327 0762': {'NAME': [], 'DOB': [], 'AADHAAR': [], 'OTHER': ['5339 3327 0762']}\n",
      "Entities in 'VID: 9143 8081 7864 9387': {'NAME': [], 'DOB': [], 'AADHAAR': [], 'OTHER': ['VID', '8081 7864 9387']}\n",
      "Entities in 'help@uidai.gov.in | www.uidai.gov.in': {'NAME': ['help@uidai.gov.in |'], 'DOB': [], 'AADHAAR': [], 'OTHER': []}\n"
     ]
    }
   ],
   "source": [
    "# Extract and print the entities\n",
    "for data in extracted_data:\n",
    "    content = data[\"content\"]\n",
    "    entities = extract_entities(content)\n",
    "    print(f\"Entities in '{content.strip()}': {entities}\")"
   ]
  },
  {
   "cell_type": "code",
   "execution_count": null,
   "metadata": {
    "colab": {
     "base_uri": "https://localhost:8080/"
    },
    "id": "6l3yxyNDS7HZ",
    "outputId": "dcc11c32-607a-404d-b15b-6669660d2b45"
   },
   "outputs": [
    {
     "name": "stdout",
     "output_type": "stream",
     "text": [
      "Final Entities: {'NAME': 'Issue Date', 'DOB': '06/01/2009', 'AADHAAR': '5339 3327 0762'}\n"
     ]
    }
   ],
   "source": [
    "name_pattern = re.compile(r\"([A-Za-z\\s]+)\")\n",
    "dob_pattern = re.compile(r\"\\b(?:DOB|Date of Birth|పుట్టిన తేదీ)[\\s:/]*(\\d{2}/\\d{2}/\\d{4})\\b\", re.IGNORECASE)\n",
    "aadhaar_pattern = re.compile(r\"\\b\\d{4}\\s\\d{4}\\s\\d{4}\\b\")\n",
    "\n",
    "# Function to extract specific entities\n",
    "def extract_specific_entities(text: str):\n",
    "    entities = {\n",
    "        \"NAME\": None,\n",
    "        \"DOB\": None,\n",
    "        \"AADHAAR\": None,\n",
    "    }\n",
    "\n",
    "    # Extracting name\n",
    "    name_match = name_pattern.findall(text)\n",
    "    if name_match:\n",
    "        # Filtering out generic words and keeping only potential names\n",
    "        name_match = [name for name in name_match if name.lower() not in {\"government of india\", \"unique identification authority of india\", \"download date\"}]\n",
    "        if name_match:\n",
    "            entities[\"NAME\"] = name_match[0]\n",
    "\n",
    "    # Extracting DOB\n",
    "    dob_match = dob_pattern.search(text)\n",
    "    if dob_match:\n",
    "        entities[\"DOB\"] = dob_match.group(1)\n",
    "\n",
    "    # Extracting Aadhaar number\n",
    "    aadhaar_match = aadhaar_pattern.search(text)\n",
    "    if aadhaar_match:\n",
    "        entities[\"AADHAAR\"] = aadhaar_match.group(0)\n",
    "\n",
    "    return entities\n",
    "\n",
    "# Initialize the final entities\n",
    "final_entities = {\n",
    "    \"NAME\": None,\n",
    "    \"DOB\": None,\n",
    "    \"AADHAAR\": None,\n",
    "}\n",
    "\n",
    "# Iterate through the data and extract entities\n",
    "for data in extracted_data:\n",
    "    content = data[\"content\"]\n",
    "    entities = extract_specific_entities(content)\n",
    "\n",
    "    # Update final entities if they are found\n",
    "    if entities[\"NAME\"] and not final_entities[\"NAME\"]:\n",
    "        final_entities[\"NAME\"] = entities[\"NAME\"]\n",
    "    if entities[\"DOB\"] and not final_entities[\"DOB\"]:\n",
    "        final_entities[\"DOB\"] = entities[\"DOB\"]\n",
    "    if entities[\"AADHAAR\"] and not final_entities[\"AADHAAR\"]:\n",
    "        final_entities[\"AADHAAR\"] = entities[\"AADHAAR\"]\n",
    "\n",
    "    # Stop if all entities are found\n",
    "    if all(final_entities.values()):\n",
    "        break\n",
    "\n",
    "# Print the final extracted entities\n",
    "print(f\"Final Entities: {final_entities}\")"
   ]
  },
  {
   "cell_type": "code",
   "execution_count": null,
   "metadata": {
    "id": "W449jnwaU0OE"
   },
   "outputs": [],
   "source": []
  }
 ],
 "metadata": {
  "colab": {
   "machine_shape": "hm",
   "provenance": []
  },
  "kernelspec": {
   "display_name": "Python 3 (ipykernel)",
   "language": "python",
   "name": "python3"
  },
  "language_info": {
   "codemirror_mode": {
    "name": "ipython",
    "version": 3
   },
   "file_extension": ".py",
   "mimetype": "text/x-python",
   "name": "python",
   "nbconvert_exporter": "python",
   "pygments_lexer": "ipython3",
   "version": "3.9.19"
  }
 },
 "nbformat": 4,
 "nbformat_minor": 4
}
